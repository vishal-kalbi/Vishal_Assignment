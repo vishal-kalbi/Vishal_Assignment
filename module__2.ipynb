{
 "cells": [
  {
   "cell_type": "markdown",
   "id": "977a43d2",
   "metadata": {},
   "source": [
    "# Assignment 2\n"
   ]
  },
  {
   "cell_type": "code",
   "execution_count": 1,
   "id": "8b0b1bc6",
   "metadata": {},
   "outputs": [
    {
     "name": "stdout",
     "output_type": "stream",
     "text": [
      "enter a nunumber:6\n",
      "you have entered a positive number.\n"
     ]
    }
   ],
   "source": [
    "# 1. Write a Python program to check if a number is positive, negative or zero.\n",
    "num= int(input(\"enter a nunumber:\"))\n",
    "if num >=0:\n",
    "    if(num==0):\n",
    "        print(\"you have entered zero.\")\n",
    "    else:\n",
    "        print(\"you have entered a positive number.\")\n",
    "        \n",
    "else:\n",
    "    print(\"you have entered a negative number:\")\n",
    "        \n",
    "        \n",
    "\n",
    "\n"
   ]
  },
  {
   "cell_type": "code",
   "execution_count": 2,
   "id": "cd3477be",
   "metadata": {},
   "outputs": [
    {
     "name": "stdout",
     "output_type": "stream",
     "text": [
      "enter a number:6\n",
      "the factorial of given number is: 720\n"
     ]
    }
   ],
   "source": [
    "# 2. Write a Python program to get the Factorial number of given number\n",
    "num=int(input(\"enter a number:\"))\n",
    "f=1\n",
    "i=1\n",
    "while(i<=num):\n",
    "    f=f*i\n",
    "    i+=1\n",
    "print(\"the factorial of given number is:\",f)    "
   ]
  },
  {
   "cell_type": "code",
   "execution_count": 7,
   "id": "04a5892c",
   "metadata": {},
   "outputs": [
    {
     "name": "stdout",
     "output_type": "stream",
     "text": [
      "enter a number:5\n",
      "0,1,1,2,3,"
     ]
    }
   ],
   "source": [
    "# 3. Write a Python program to get the Fibonacci series of given range.\n",
    "num=int(input(\"enter a number:\"))\n",
    "n1=0\n",
    "n2=1\n",
    "for i in range(num):\n",
    "    print(n1,end=\",\")\n",
    "    nth=n1+n2\n",
    "    n1=n2\n",
    "    n2=nth\n"
   ]
  },
  {
   "cell_type": "code",
   "execution_count": null,
   "id": "168ad031",
   "metadata": {},
   "outputs": [],
   "source": [
    "#  4.How memory is managed in Python?"
   ]
  },
  {
   "cell_type": "code",
   "execution_count": null,
   "id": "56cc0bf4",
   "metadata": {},
   "outputs": [],
   "source": [
    "# 5. What is the purpose continue statement in python?\n",
    "whenever a continue statement is encountered the program \n",
    "skip the current iteration in loops and program \n",
    "again switch to loops condition or iterables and continue from the next iterations."
   ]
  },
  {
   "cell_type": "code",
   "execution_count": 8,
   "id": "626ae00c",
   "metadata": {},
   "outputs": [
    {
     "name": "stdout",
     "output_type": "stream",
     "text": [
      "Enter a number:4\n",
      "the given number is even.\n"
     ]
    }
   ],
   "source": [
    "# 6. Write a Python program to find whether a given number is even or odd, \n",
    "# print out an appropriate message to the user.\n",
    "num=int(input(\"Enter a number:\"))\n",
    "if num%2==0:\n",
    "    print(\"the given number is even.\")\n",
    "else:\n",
    "    print(\"the given number is odd.\")"
   ]
  },
  {
   "cell_type": "code",
   "execution_count": 12,
   "id": "84fada1c",
   "metadata": {},
   "outputs": [
    {
     "name": "stdout",
     "output_type": "stream",
     "text": [
      "enter a letter:r\n"
     ]
    },
    {
     "data": {
      "text/plain": [
       "'r'"
      ]
     },
     "execution_count": 12,
     "metadata": {},
     "output_type": "execute_result"
    }
   ],
   "source": [
    "# 7. Write a Python program to test whether a passed letter is a vowel or \n",
    "# not.\n",
    "num=input(\"enter a letter:\")\n",
    "if num in (\"A\",\"a\",\"E\",\"e\",\"I\",\"i\",\"O\",\"o\",\"U\",\"u\"):\n",
    "    print(\"you have entered a vowel.\")\n",
    "else:\n",
    "    print(\"you have entered a constonant\")\n"
   ]
  },
  {
   "cell_type": "code",
   "execution_count": null,
   "id": "39c81866",
   "metadata": {},
   "outputs": [],
   "source": [
    "# 8.Write a python program to sum of the first n positive integers\n",
    "\n",
    "n = int(input(\"Enter a Positive Integer:\"))\n",
    "total = n*(n+1)/2\n",
    "print(\"The sum of first\",n,\"Positive Integer\",total)"
   ]
  },
  {
   "cell_type": "code",
   "execution_count": null,
   "id": "fd7484fc",
   "metadata": {},
   "outputs": [],
   "source": [
    "#  9.Write a Python program to count occurrences of a substring in a string.\n",
    "\n",
    "str2 = \"The quick brown fox jumps over the lazy dog.\"\n",
    "print()\n",
    "print(str2.count(\"dog\"))"
   ]
  },
  {
   "cell_type": "code",
   "execution_count": 1,
   "id": "3a20d518",
   "metadata": {},
   "outputs": [
    {
     "name": "stdout",
     "output_type": "stream",
     "text": [
      "5\n",
      "5\n",
      "5\n",
      "0\n"
     ]
    }
   ],
   "source": [
    "# 10.Write a Python program to sum of three given integers. However,if two values are equal sum will be zero.\n",
    "x=int(input())\n",
    "y=int(input())\n",
    "z=int(input())\n",
    "if x==y or y==z or z==x:\n",
    "    sum=0\n",
    "else:\n",
    "    sum = x + y + z\n",
    "print(sum)    \n",
    "\n"
   ]
  },
  {
   "cell_type": "code",
   "execution_count": 2,
   "id": "c732634b",
   "metadata": {},
   "outputs": [
    {
     "name": "stdout",
     "output_type": "stream",
     "text": [
      "The Value of a after swapping: 8\n",
      "The Value of b after swapping: 6\n"
     ]
    }
   ],
   "source": [
    "# 11. Write python program that swap two number with temp variable\n",
    "\n",
    "a = 6\n",
    "b = 8\n",
    "#create temp variable and swap the values\n",
    "temp = a\n",
    "a = b\n",
    "b = temp\n",
    "\n",
    "print(\"The Value of a after swapping:\",a)\n",
    "print(\"The Value of b after swapping:\",b)"
   ]
  },
  {
   "cell_type": "code",
   "execution_count": 3,
   "id": "7d9571ed",
   "metadata": {},
   "outputs": [
    {
     "name": "stdout",
     "output_type": "stream",
     "text": [
      "a = 10\n",
      "b = 5\n"
     ]
    }
   ],
   "source": [
    "# 12.Write python program that swap two number without temp variable.\n",
    "\n",
    "a = 5\n",
    "b = 10\n",
    "a,b = b,a\n",
    "print(\"a =\", a)\n",
    "print(\"b =\", b)"
   ]
  },
  {
   "cell_type": "code",
   "execution_count": null,
   "id": "1eb6615a",
   "metadata": {},
   "outputs": [],
   "source": [
    "# 13. What are negative indexes and why are they used?\n",
    "\n",
    "Ans.) Negative Indexing is used to in Python to begin slicing from the end of the string i.e. the last.\n",
    "      Slicing in Python gets a sub-string from a string.\n",
    "      The slicing range is set as parameters i.e. start, stop and step"
   ]
  },
  {
   "cell_type": "code",
   "execution_count": null,
   "id": "c4030b70",
   "metadata": {},
   "outputs": [],
   "source": [
    "# 14. How memory is managed in Python?\n",
    "Python is a high-level programming language implemented in the C programming language.\n",
    "The Python memory management system handles memory allocations in Python.\n",
    "Because Python is so widely used in software development, building memory-efficient Python code is usually a need. As the use of massive data expands, the necessity of memory management is now stress-free.\n",
    "According to the Python memory management documentation, Python has a private heap that stores our program’s objects and data structures.\n",
    "Python memory manager takes care of the bulk of the memory management work and allows us to concentrate on our code"
   ]
  },
  {
   "cell_type": "code",
   "execution_count": 7,
   "id": "7e262417",
   "metadata": {},
   "outputs": [
    {
     "name": "stdout",
     "output_type": "stream",
     "text": [
      "10\n",
      "6\n",
      "False\n"
     ]
    }
   ],
   "source": [
    "#15. Write a Python program that will return true if the two given integer values are equal or their sum or difference is 5.\n",
    "a=int(input())\n",
    "b=int(input())\n",
    "\n",
    "if a == b or abs(a-b) == 5 or abs(a+b) == 5:\n",
    "    print(a == b or abs(a-b) == 5 or abs(a+b) == 5)\n",
    "    \n",
    "    \n",
    "else:\n",
    "    print(a == b or abs(a-b) == 5 or abs(a+b) == 5)\n",
    "\n"
   ]
  },
  {
   "cell_type": "code",
   "execution_count": 8,
   "id": "2568970d",
   "metadata": {},
   "outputs": [
    {
     "name": "stdout",
     "output_type": "stream",
     "text": [
      "Enter the no of integers you want sum of: 6\n",
      "The sum of first 6 Positive Integers is: 21\n"
     ]
    }
   ],
   "source": [
    "#16. Write a python program to sum of the first n positive integers.\n",
    "# Taking the Input from user\n",
    "n = int(input(\"Enter the no of integers you want sum of: \"))\n",
    "\n",
    "# Defining the Sum Variable\n",
    "sum = 0\n",
    "\n",
    "# Using For Loop for Summation of all Elements\n",
    "for i in range(n,0,-1):\n",
    "    sum += i\n",
    "\n",
    "#OUTPUTTTT\n",
    "print(f\"The sum of first {n} Positive Integers is: {sum}\")"
   ]
  },
  {
   "cell_type": "code",
   "execution_count": 9,
   "id": "4302589d",
   "metadata": {},
   "outputs": [
    {
     "name": "stdout",
     "output_type": "stream",
     "text": [
      "Enter the String you want the length of: str\n",
      "Length of Entered String: 3\n"
     ]
    }
   ],
   "source": [
    "# 17.Write a Python program to calculate the length of a string.\n",
    "# Taking the Input from user\n",
    "user_str = input(\"Enter the String you want the length of: \")\n",
    "\n",
    "#OUTPUTTTT\n",
    "print(\"Length of Entered String:\", len(user_str))"
   ]
  },
  {
   "cell_type": "code",
   "execution_count": 10,
   "id": "80af1b2e",
   "metadata": {},
   "outputs": [
    {
     "name": "stdout",
     "output_type": "stream",
     "text": [
      "Enter the main String: vishal is on his way\n",
      "Enter the Substring you want the count of: way\n",
      "Number of Occurences of substring:  1\n"
     ]
    }
   ],
   "source": [
    "# 18. Write a Python program to count occurrences of a substring in a string.\n",
    "# Taking the Input from the user\n",
    "user_string = input(\"Enter the main String: \")\n",
    "user_substring = input(\"Enter the Substring you want the count of: \")\n",
    "\n",
    "#OUTPUTTTT\n",
    "print(\"Number of Occurences of substring: \", user_string.count(user_substring))"
   ]
  },
  {
   "cell_type": "code",
   "execution_count": 14,
   "id": "499ed9a0",
   "metadata": {},
   "outputs": [
    {
     "name": "stdout",
     "output_type": "stream",
     "text": [
      "Enter the whole Sentence: vishal is on is is his ways is are more\n",
      "\n",
      "Word\t|  Freq\n",
      "========================\n",
      "vishal\t|  1\n",
      "is\t|  4\n",
      "on\t|  1\n",
      "his\t|  1\n",
      "ways\t|  1\n",
      "are\t|  1\n",
      "more\t|  1\n"
     ]
    }
   ],
   "source": [
    "# 19.Write a Python program to count the occurrences of each word in a given sentence\n",
    "# Taking the Input from the user\n",
    "user_sentence = input(\"Enter the whole Sentence: \")\n",
    "word_dict = {}\n",
    "\n",
    "words_list = user_sentence.split()\n",
    "# letter_list=words_list.split()\n",
    "\n",
    "# Using For Loop\n",
    "for i in words_list:\n",
    "    if i in word_dict:\n",
    "        word_dict[i] += 1\n",
    "    else:\n",
    "        word_dict[i] = 1\n",
    "\n",
    "#OUTPUTTTT\n",
    "print(\"\\nWord\\t|  Freq\")\n",
    "print(\"========================\")\n",
    "\n",
    "for key in word_dict: \n",
    "    print(f\"{key}\\t|  {word_dict[key]}\")"
   ]
  },
  {
   "cell_type": "code",
   "execution_count": 15,
   "id": "d754f71b",
   "metadata": {},
   "outputs": [
    {
     "name": "stdout",
     "output_type": "stream",
     "text": [
      "Please input a list of words to evaluate: vishal is on his way\n"
     ]
    },
    {
     "ename": "NameError",
     "evalue": "name 'user_text' is not defined",
     "output_type": "error",
     "traceback": [
      "\u001b[1;31m---------------------------------------------------------------------------\u001b[0m",
      "\u001b[1;31mNameError\u001b[0m                                 Traceback (most recent call last)",
      "Cell \u001b[1;32mIn [15], line 4\u001b[0m\n\u001b[0;32m      2\u001b[0m user_string \u001b[38;5;241m=\u001b[39m \u001b[38;5;28minput\u001b[39m(\u001b[38;5;124m\"\u001b[39m\u001b[38;5;124mPlease input a list of words to evaluate: \u001b[39m\u001b[38;5;124m\"\u001b[39m)\n\u001b[0;32m      3\u001b[0m longest_len \u001b[38;5;241m=\u001b[39m \u001b[38;5;241m0\u001b[39m\n\u001b[1;32m----> 4\u001b[0m \u001b[38;5;28;01mfor\u001b[39;00m words \u001b[38;5;129;01min\u001b[39;00m user_text\u001b[38;5;241m.\u001b[39msplit():\n\u001b[0;32m      5\u001b[0m     \u001b[38;5;28;01mif\u001b[39;00m \u001b[38;5;28mlen\u001b[39m(words) \u001b[38;5;241m>\u001b[39m longest_len:\n\u001b[0;32m      6\u001b[0m         longest_len \u001b[38;5;241m=\u001b[39m \u001b[38;5;28mlen\u001b[39m(words)\n",
      "\u001b[1;31mNameError\u001b[0m: name 'user_text' is not defined"
     ]
    }
   ],
   "source": [
    "# 20.Write a Python function that takes a list of words and returns the length of the longest one.\n",
    "user_string = input(\"Please input a list of words to evaluate: \")\n",
    "longest_len = 0\n",
    "for words in user_text.split():\n",
    "    if len(words) > longest_len:\n",
    "        longest_len = len(words)\n",
    "        longest_word = words\n",
    "print(\"\\nLongest word:\", longest_word, \"| Length:\", len(longest_word))        \n",
    "        "
   ]
  },
  {
   "cell_type": "code",
   "execution_count": null,
   "id": "268bb856",
   "metadata": {},
   "outputs": [],
   "source": []
  }
 ],
 "metadata": {
  "kernelspec": {
   "display_name": "Python 3 (ipykernel)",
   "language": "python",
   "name": "python3"
  },
  "language_info": {
   "codemirror_mode": {
    "name": "ipython",
    "version": 3
   },
   "file_extension": ".py",
   "mimetype": "text/x-python",
   "name": "python",
   "nbconvert_exporter": "python",
   "pygments_lexer": "ipython3",
   "version": "3.10.7"
  }
 },
 "nbformat": 4,
 "nbformat_minor": 5
}
