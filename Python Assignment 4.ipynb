{
 "cells": [
  {
   "cell_type": "code",
   "execution_count": 1,
   "id": "1ae83aa2",
   "metadata": {},
   "outputs": [],
   "source": [
    "# What is File function in python? What is keywords to create and write file. \n",
    "# In Python, \"File\" function is used to create file and edit the file \n",
    "\n",
    "\n",
    "o1=open('laptop.txt','w')\n",
    "o1.write(\"Laptop is a Portable device,A laptop is like a notebook computer by manufactures,is a batery or ACpowered personal computer PC Smaller than briefcase\")\n",
    "o1.close()"
   ]
  },
  {
   "cell_type": "code",
   "execution_count": 2,
   "id": "a2ac113a",
   "metadata": {},
   "outputs": [],
   "source": [
    "# Write a Python program to read an entire text file.\n",
    "\n",
    "o1=open('laptop.txt','r')\n",
    "f33=o1.read()\n",
    "o1.close()"
   ]
  },
  {
   "cell_type": "code",
   "execution_count": 3,
   "id": "57367064",
   "metadata": {},
   "outputs": [
    {
     "name": "stdout",
     "output_type": "stream",
     "text": [
      "Laptop is a Portable device,A laptop is like a notebook computer by manufactures,is a batery or ACpowered personal computer PC Smaller than briefcase\n"
     ]
    }
   ],
   "source": [
    "print(f33)"
   ]
  },
  {
   "cell_type": "code",
   "execution_count": 4,
   "id": "31e142b4",
   "metadata": {},
   "outputs": [],
   "source": [
    "# Write a Python program to append text to a file and display the text. \n",
    "\n",
    "o1=open('laptop.txt','a')\n",
    "o1.write(\"It is a compact device that consists of a screen, keyboard, and touchpad or mouse.\\nIt has become an essential tool in today's world due to its portability and functionality.\\nLaptops come in different sizes, designs, and specifications, allowing users to choose one that suits their needs.\")\n",
    "o1.close()"
   ]
  },
  {
   "cell_type": "code",
   "execution_count": 5,
   "id": "b480b63b",
   "metadata": {},
   "outputs": [],
   "source": [
    "o1=open('laptop.txt','r')\n",
    "f36=o1.read()\n",
    "o1.close()"
   ]
  },
  {
   "cell_type": "code",
   "execution_count": 6,
   "id": "867de41d",
   "metadata": {
    "scrolled": true
   },
   "outputs": [
    {
     "name": "stdout",
     "output_type": "stream",
     "text": [
      "Laptop is a Portable device,A laptop is like a notebook computer by manufactures,is a batery or ACpowered personal computer PC Smaller than briefcaseIt is a compact device that consists of a screen, keyboard, and touchpad or mouse.\n",
      "It has become an essential tool in today's world due to its portability and functionality.\n",
      "Laptops come in different sizes, designs, and specifications, allowing users to choose one that suits their needs.\n"
     ]
    }
   ],
   "source": [
    "print(f36)"
   ]
  },
  {
   "cell_type": "code",
   "execution_count": 2,
   "id": "5513561a",
   "metadata": {},
   "outputs": [],
   "source": [
    "# Write a Python program to read first n lines of a file"
   ]
  },
  {
   "cell_type": "code",
   "execution_count": null,
   "id": "454da831",
   "metadata": {},
   "outputs": [],
   "source": [
    "print(u)"
   ]
  },
  {
   "cell_type": "code",
   "execution_count": null,
   "id": "8a080c55",
   "metadata": {},
   "outputs": [],
   "source": [
    "t34=open('laptop.txt','r')\n",
    "# t34.seek(60)\n",
    "u=t34.read(5)\n",
    "t34.close()"
   ]
  },
  {
   "cell_type": "code",
   "execution_count": null,
   "id": "97930829",
   "metadata": {},
   "outputs": [],
   "source": [
    "print(u)"
   ]
  },
  {
   "cell_type": "code",
   "execution_count": null,
   "id": "0ace0195",
   "metadata": {},
   "outputs": [],
   "source": [
    "# Write a Python program to read last n lines of a file. \n",
    "\n",
    "def tail(filename,n):\n",
    "    with open(filename,'r') as file:\n",
    "        \n",
    "        file.seek(0,2)\n",
    "        size=file.tell()\n",
    "        file.seek(max(0, size - n), 0)\n",
    "        lines=file.readlines()\n",
    "        \n",
    "    return lines\n",
    "filename = \"laptop.txt\"\n",
    "n = 5\n",
    "lines = tail(filename, n)\n",
    "print(lines)   "
   ]
  },
  {
   "cell_type": "code",
   "execution_count": null,
   "id": "1d8eccda",
   "metadata": {},
   "outputs": [],
   "source": []
  },
  {
   "cell_type": "code",
   "execution_count": null,
   "id": "d07668ab",
   "metadata": {},
   "outputs": [],
   "source": [
    "#  Write a Python program to read a file line by line and store it into a list.\n",
    "\n",
    "def read_file(filename):\n",
    "    with open(filename,'r') as file:\n",
    "        lines=file.readlines()\n",
    "        \n",
    "    return lines\n",
    "\n",
    "\n",
    "filename='laptop.txt'\n",
    "lines=read_file(filename)\n",
    "print(lines)"
   ]
  },
  {
   "cell_type": "code",
   "execution_count": null,
   "id": "487efe5b",
   "metadata": {},
   "outputs": [],
   "source": [
    "def read_file(filename):\n",
    "    with open(filename,'r') as file:\n",
    "        data=file.read()\n",
    "    return data\n",
    "\n",
    "filename='players.txt'\n",
    "file_data=read_file(filename)\n",
    "print(file_data)"
   ]
  },
  {
   "cell_type": "code",
   "execution_count": null,
   "id": "0cfa4204",
   "metadata": {},
   "outputs": [],
   "source": [
    "# Write a python program to find the longest words\n",
    "\n"
   ]
  },
  {
   "cell_type": "code",
   "execution_count": null,
   "id": "e566f8cc",
   "metadata": {},
   "outputs": [],
   "source": [
    "# Write a Python program to count the number of lines in a text file. \n",
    "with open('laptop.txt','r') as file:\n",
    "    line_count=0\n",
    "    for line in file:\n",
    "        line_count+=1\n",
    "print(\"The number of lines:\",line_count)\n",
    "    "
   ]
  },
  {
   "cell_type": "code",
   "execution_count": null,
   "id": "7881fe6b",
   "metadata": {},
   "outputs": [],
   "source": [
    "# Write a Python program to count the frequency of words in a file\n",
    "\n",
    "with open('laptop.txt','r') as file:\n",
    "    word_freq={}\n",
    "    for line in file:\n",
    "        words=line.strip().split()\n",
    "        for word in words:\n",
    "            if word in word_freq:\n",
    "                word_freq[word]+=1\n",
    "            else:\n",
    "                word_freq[word]=1\n",
    "            \n",
    "for word,freq in word_freq.items():\n",
    "    print(word,freq)"
   ]
  },
  {
   "cell_type": "code",
   "execution_count": null,
   "id": "7c75254b",
   "metadata": {},
   "outputs": [],
   "source": [
    "# Write a Python program to write a list to a file\n",
    "list2=['An Apple a day a doctor a way']\n",
    "\n",
    "o1=open('players.txt','w')\n",
    "for string in list2:\n",
    "    o1.write(string)\n",
    "o1.close()"
   ]
  },
  {
   "cell_type": "code",
   "execution_count": null,
   "id": "5fe4a679",
   "metadata": {},
   "outputs": [],
   "source": [
    "o1=open('players.txt','r')\n",
    "o1.read()"
   ]
  },
  {
   "cell_type": "code",
   "execution_count": null,
   "id": "fbe2bc23",
   "metadata": {},
   "outputs": [],
   "source": [
    "# Write a Python program to copy the contents of a file to another file. \n",
    "\n",
    "with open('players.txt','r') as players:\n",
    "    file_contents=players.read()\n",
    "    \n",
    "with open('laptop.txt','w') as laptop:\n",
    "    laptop.write(file_contents)\n"
   ]
  },
  {
   "cell_type": "code",
   "execution_count": null,
   "id": "92890270",
   "metadata": {},
   "outputs": [],
   "source": [
    "o1=open('laptop.txt','r')\n",
    "o1.read()"
   ]
  },
  {
   "cell_type": "code",
   "execution_count": null,
   "id": "949a1b63",
   "metadata": {},
   "outputs": [],
   "source": [
    "# Explain Exception handling? What is an Error in Python?\n",
    "\n",
    "Exception handling is the process of anticipating and handling errors that may occur in a program.\n",
    "In Python, exceptions are errors that occur during the execution of a program that disrupt the normal flow of execution.\n",
    "\n",
    "# Error in Python\n",
    "\n",
    "An error in Python is any condition that results in the abnormal termination of a program. "
   ]
  },
  {
   "cell_type": "code",
   "execution_count": null,
   "id": "36046712",
   "metadata": {},
   "outputs": [],
   "source": [
    "# How many except statements can a try-except block have? Name Some built-in exception classes: \n",
    "\n",
    "There are 8 types of try-except block have\n",
    "Names are as follows:\n",
    "TypeError\n",
    "keyError\n",
    "NameError \n",
    "ValueError\n",
    "ZeroDivsionError\n",
    "AttributeError\n",
    "IndexError\n",
    "FiLeNotFoundError"
   ]
  },
  {
   "cell_type": "code",
   "execution_count": null,
   "id": "b520e600",
   "metadata": {},
   "outputs": [],
   "source": [
    "try:\n",
    "    num = int(input()) #ValueError\n",
    "    print(100/num) #ZeroDivisionError\n",
    "    list1 = [34,546,56,678]\n",
    "    print(list1[num]) #IndexError\n",
    "except:\n",
    "    num = int(input(\"numbers ENTER kar bhai:\"))\n",
    "    print(100/num)\n",
    "    list1 = [34,546,56,678]\n",
    "    print(list1[num])\n",
    "    \n",
    "else:\n",
    "    print(\"The Number is an odd\")"
   ]
  },
  {
   "cell_type": "code",
   "execution_count": null,
   "id": "2bf2102a",
   "metadata": {},
   "outputs": [],
   "source": [
    "# When will the else part of try-except-else be executed?\n",
    "\n",
    "# In a Python try-except-else block, the else block is executed if and only if no exceptions are raised inside the try block.\n",
    "try:\n",
    "    num1 = int(input(\"Enter a number: \"))\n",
    "    num2 = int(input(\"Enter another number: \"))\n",
    "    result = num1 / num2\n",
    "except ValueError:\n",
    "    print(\"Please enter a valid integer.\")\n",
    "except ZeroDivisionError:\n",
    "    print(\"Cannot divide by zero.\")\n",
    "else:\n",
    "    print(\"The result is:\", result)\n",
    "\n"
   ]
  },
  {
   "cell_type": "code",
   "execution_count": null,
   "id": "03ed9a8b",
   "metadata": {},
   "outputs": [],
   "source": [
    "# Can one block of except statements handle multiple exception?\n",
    "# A single except block to handle multiple types of exceptions in Python.\n",
    "# You can list the exception types inside the except block, separated by commas. \n",
    "\n"
   ]
  },
  {
   "cell_type": "code",
   "execution_count": null,
   "id": "ef2952ea",
   "metadata": {},
   "outputs": [],
   "source": [
    "# When is the finally block executed?\n",
    "In Python, the finally block in a try-except-finally block is always executed,\n",
    "regardless of whether an exception was raised or not.\n",
    "\n"
   ]
  },
  {
   "cell_type": "code",
   "execution_count": null,
   "id": "cda258bc",
   "metadata": {},
   "outputs": [],
   "source": [
    "# What happens when „1‟== 1 is executed?\n",
    "\n",
    "When the expression \"1\" == 1 is executed in Python, it will evaluate to False.\n",
    "\n",
    "This is because the string \"1\" and the integer 1 are not the same type, and therefore cannot be equal.\n",
    "The string \"1\" is a sequence of characters, while the integer 1 is a numerical value."
   ]
  },
  {
   "cell_type": "code",
   "execution_count": 6,
   "id": "d7c6598f",
   "metadata": {},
   "outputs": [
    {
     "name": "stdout",
     "output_type": "stream",
     "text": [
      "Enter a Number:30\n",
      "3.3333333333333335\n",
      "Royals always a royals\n",
      "Super kings\n"
     ]
    }
   ],
   "source": [
    "# How Do You Handle Exceptions With Try/Except/Finally In Python?\n",
    "# Explain with coding snippets. \n",
    "\n",
    "try:\n",
    "    num=int(input(\"Enter a Number:\"))\n",
    "    print(100/num)\n",
    "    list3=[34,56,78,90,100]\n",
    "    print(list3[num])\n",
    "except:\n",
    "    print(\"Royals always a royals\")\n",
    "finally:\n",
    "    print(\"Super kings\")"
   ]
  },
  {
   "cell_type": "code",
   "execution_count": 20,
   "id": "e94767a1",
   "metadata": {},
   "outputs": [
    {
     "name": "stdout",
     "output_type": "stream",
     "text": [
      "Enter an Odd Number:7\n",
      "The Number is Entered is Odd: 7\n"
     ]
    }
   ],
   "source": [
    "# Write python program that user to enter only odd numbers, else will raise an exception.\n",
    "\n",
    "try:\n",
    "    num=int(input(\"Enter an Odd Number:\"))\n",
    "    if num%2==0:\n",
    "        raise ValueError(\"The Number is entered is not odd\")\n",
    "    else:\n",
    "        print(\"The Number is Entered is Odd:\",num)\n",
    "        \n",
    "except:\n",
    "    print(\"The Number is not odd\")"
   ]
  },
  {
   "cell_type": "code",
   "execution_count": null,
   "id": "c4ac5fde",
   "metadata": {},
   "outputs": [],
   "source": [
    "# What are oops concepts? Is multiple inheritance supported in java \n",
    "\n",
    "Object-Oriented Programming (OOP) is a programming paradigm that is based on the concept of \"objects\",\n",
    "which can contain data and methods that manipulate that data. OOP concepts include:\n",
    "\n",
    "1.)Encapsulation: the idea of bundling data and methods together within an object to protect the data\n",
    "    from external interference and to ensure that the data is only accessed through the object's methods.\n",
    "    \n",
    "2.)Inheritance: the ability of one class to inherit properties and methods from another class.\n",
    "    \n",
    "3.)Polymorphism: the ability of an object to take on many forms or types.\n",
    "    \n",
    "4.)Abstraction: the ability to hide complex implementation details and provide a simplified interface for users.\n",
    "    \n",
    "    \n",
    "Java supports multiple inheritance of interfaces, but not of classes. \n",
    "In Java, a class can implement multiple interfaces, which allows it to inherit the abstract properties of each interface. \n",
    "However, a class can only inherit from one superclass,which is the class that it extends. This is known as \"single inheritance\"."
   ]
  },
  {
   "cell_type": "code",
   "execution_count": 22,
   "id": "f94edefc",
   "metadata": {},
   "outputs": [],
   "source": [
    "# How to Define a Class in Python? What Is Self? Give An Example Of A Python Class\n",
    "\n",
    "# In Python, you can define a class using the class keyword, followed by the name of the class and a colon. \n",
    "\n",
    "# class Myclass:\n",
    "#     pass\n",
    "\n",
    "# # What is Self?\n",
    "# In Python,self is a reference to the current instance of a class.It is used as the first parameter in the definition of class methods,\n",
    "# including the constructor (__init__ method), instance methods, and class methods.\n",
    "\n",
    "# --> The self parameter is used to access instance variables and methods within a class.\n",
    "# When a method is called on an instance of a class,Python automatically passes the instance itself as the first argument(i.e.,self),\n",
    "# which allows the method to access the instance's attributes.\n",
    "\n",
    "# Example:\n",
    "    \n",
    "class Person:\n",
    "    def __init__(self, name, age):\n",
    "        self.name = name\n",
    "        self.age = age\n",
    "    \n",
    "    def say_hello(self):\n",
    "        print(f\"Hello, my name is {self.name} and I'm {self.age} years old.\")\n"
   ]
  },
  {
   "cell_type": "code",
   "execution_count": 26,
   "id": "d8aafaa0",
   "metadata": {},
   "outputs": [],
   "source": [
    "p1=Person(\"Sahil\",22)"
   ]
  },
  {
   "cell_type": "code",
   "execution_count": 31,
   "id": "ea1a63e3",
   "metadata": {},
   "outputs": [
    {
     "name": "stdout",
     "output_type": "stream",
     "text": [
      "Hello, my name is Sahil and I'm 22 years old.\n"
     ]
    }
   ],
   "source": [
    "p1.say_hello()"
   ]
  },
  {
   "cell_type": "code",
   "execution_count": 34,
   "id": "5a28dbff",
   "metadata": {},
   "outputs": [],
   "source": [
    "# Write a Python class named Rectangle constructed by a length and width and a method which will compute the area of a rectangle\n",
    "\n",
    "class Rectangele:\n",
    "    def __init__(self,length,width):\n",
    "        self.length=length\n",
    "        self.width=width\n",
    "    \n",
    "    def area(self):\n",
    "        return self.length*self.width"
   ]
  },
  {
   "cell_type": "code",
   "execution_count": 36,
   "id": "d6a59afc",
   "metadata": {},
   "outputs": [],
   "source": [
    "r1=Rectangele(20,30)"
   ]
  },
  {
   "cell_type": "code",
   "execution_count": 40,
   "id": "addcea40",
   "metadata": {},
   "outputs": [
    {
     "data": {
      "text/plain": [
       "600"
      ]
     },
     "execution_count": 40,
     "metadata": {},
     "output_type": "execute_result"
    }
   ],
   "source": [
    "r1.area()"
   ]
  },
  {
   "cell_type": "code",
   "execution_count": 41,
   "id": "79eb6403",
   "metadata": {},
   "outputs": [],
   "source": [
    "# Write a Python class named Circle constructed by a radius and two\n",
    "# methods which will compute the area and the perimeter of a circle \n",
    "\n",
    "class Circle:\n",
    "    def __init__(self, radius):\n",
    "        self.radius = radius\n",
    "    \n",
    "    def area(self):\n",
    "        return 3.14 * self.radius ** 2\n",
    "    \n",
    "    def perimeter(self):\n",
    "        return 2 * 3.14 * self.radius\n"
   ]
  },
  {
   "cell_type": "code",
   "execution_count": 43,
   "id": "0ee22798",
   "metadata": {},
   "outputs": [],
   "source": [
    "c1=Circle(14)"
   ]
  },
  {
   "cell_type": "code",
   "execution_count": 50,
   "id": "ea5bfd48",
   "metadata": {},
   "outputs": [
    {
     "data": {
      "text/plain": [
       "615.44"
      ]
     },
     "execution_count": 50,
     "metadata": {},
     "output_type": "execute_result"
    }
   ],
   "source": [
    "c1.area()"
   ]
  },
  {
   "cell_type": "code",
   "execution_count": null,
   "id": "3e233852",
   "metadata": {},
   "outputs": [],
   "source": [
    "# Explain Inheritance in Python with an example? What is init? Or What Is A Constructor In Python? \n",
    "\n",
    "Inheritance is a concept in object-oriented programming (OOP) where a class (the child or derived class) is created by inheriting properties\n",
    "and methods from another class (the parent or base class).\n",
    "The child class can then use and extend the functionality of the parent class.\n",
    "\n",
    "# What is init in python\n",
    "__init__ is a special method(also known as a constructor) in Python that is automatically called when an instance of a class is created.\n",
    "It's used to initialize the attributes of the instance.\n",
    "\n",
    "# What is Constructor in python\n",
    "\n",
    "In Python, a constructor is a special method called __init__ that is automatically called when an instance of a class is created.\n",
    "It's used to initialize the attributes of the instance.\n",
    "\n",
    "--> When you create an instance of a class in Python, you call the class like a function with any necessary arguments.\n",
    "This creates a new instance of the class,and Python automatically calls the __init__ method with the instance as the first argument."
   ]
  },
  {
   "cell_type": "code",
   "execution_count": 53,
   "id": "666a3fc5",
   "metadata": {},
   "outputs": [],
   "source": [
    "# What is Instantiation in terms of OOP terminology? \n",
    "\n",
    "# In object-oriented programming (OOP), instantiation refers to the process of creating an instance of a class.\n",
    "# An instance is an object that is a specific member of a class, with its own state and behavior.\n",
    "\n",
    "# --> When you instantiate a class, you create a new instance of that class with its own unique attributes and methods.\n",
    "# The attributes of the instance can be different from the attributes of other instances of the same class,\n",
    "# and the methods of the instance can behave differently depending on the instance's attributes.\n",
    "\n",
    "\n",
    "class Rectanglr:\n",
    "    def __init__(self,length,breadth):\n",
    "        self.length=length\n",
    "        self.breadth=breadth\n",
    "        \n",
    "    def area(self):\n",
    "        return self.length*self.breadth"
   ]
  },
  {
   "cell_type": "code",
   "execution_count": 55,
   "id": "f6faee51",
   "metadata": {},
   "outputs": [],
   "source": [
    "r1=Rectangele(34,54)"
   ]
  },
  {
   "cell_type": "code",
   "execution_count": 56,
   "id": "5933bef0",
   "metadata": {},
   "outputs": [
    {
     "data": {
      "text/plain": [
       "1836"
      ]
     },
     "execution_count": 56,
     "metadata": {},
     "output_type": "execute_result"
    }
   ],
   "source": [
    "r1.area()"
   ]
  },
  {
   "cell_type": "code",
   "execution_count": 57,
   "id": "45dee6b4",
   "metadata": {},
   "outputs": [
    {
     "name": "stdout",
     "output_type": "stream",
     "text": [
      "True\n",
      "False\n",
      "True\n"
     ]
    }
   ],
   "source": [
    "# What is used to check whether an object o is an instance of class A? \n",
    "\n",
    "--> # In Python, you can check whether an object o is an instance of a class A by using the isinstance() function.\n",
    "# The isinstance() function takes two arguments:\n",
    "# the object you want to check, and the class you want to check it against.\n",
    "\n",
    "class Dog:\n",
    "    def bark(self):\n",
    "        print(\"Woof!\")\n",
    "\n",
    "class Cat:\n",
    "    def meow(self):\n",
    "        print(\"Meow!\")\n",
    "\n",
    "dog = Dog()\n",
    "cat = Cat()\n",
    "\n",
    "print(isinstance(dog, Dog))  # Output: True\n",
    "print(isinstance(cat, Dog))  # Output: False\n",
    "print(isinstance(cat, Cat))  # Output: True\n"
   ]
  },
  {
   "cell_type": "code",
   "execution_count": null,
   "id": "5be45234",
   "metadata": {},
   "outputs": [],
   "source": [
    "# What relationship is appropriate for Course and Faculty? \n",
    "\n",
    "The appropriate relationship between Course and Faculty depends on the specific requirements of the system you're building. \n",
    "However, a common relationship between these two entities in an academic setting is a many-to-many relationship.\n",
    "\n",
    "--> In this relationship,a Course can be taught by multiple Faculty members, and a Faculty member can teach multiple Course classes.\n",
    "Therefore, a junction table(also known as an association table or link table) is typically used to represent this many-to-many relationship."
   ]
  },
  {
   "cell_type": "code",
   "execution_count": 66,
   "id": "df507db7",
   "metadata": {},
   "outputs": [],
   "source": [
    "# What relationship is appropriate for Student and Person? \n",
    "\n",
    "# In object-oriented programming, the relationship between Student and Person is typically modeled as an inheritance relationship.\n",
    "# Student is a specific type of Person,so it makes sense to create a Student class that inherits from the Person class.\n",
    "\n",
    "class Person:\n",
    "    def __init__(self, name, age):\n",
    "        self.name = name\n",
    "        self.age = age\n",
    "        \n",
    "class Student(Person):\n",
    "    def __init__(self, name, age, student_id):\n",
    "        super().__init__(name, age)\n",
    "        self.student_id = student_id\n",
    "        \n",
    "    def study(self):\n",
    "        print(f\"{self.name} is studying.\")\n"
   ]
  },
  {
   "cell_type": "code",
   "execution_count": 71,
   "id": "17841d89",
   "metadata": {},
   "outputs": [],
   "source": [
    "s1=Student(\"John\",32,2020802066)\n",
    "p1=Person(\"Atul\",23)"
   ]
  },
  {
   "cell_type": "code",
   "execution_count": 72,
   "id": "6be0bf8d",
   "metadata": {},
   "outputs": [
    {
     "data": {
      "text/plain": [
       "23"
      ]
     },
     "execution_count": 72,
     "metadata": {},
     "output_type": "execute_result"
    }
   ],
   "source": [
    "p1.age"
   ]
  },
  {
   "cell_type": "code",
   "execution_count": 73,
   "id": "5ad2579b",
   "metadata": {},
   "outputs": [
    {
     "data": {
      "text/plain": [
       "2020802066"
      ]
     },
     "execution_count": 73,
     "metadata": {},
     "output_type": "execute_result"
    }
   ],
   "source": [
    "s1.student_id"
   ]
  },
  {
   "cell_type": "code",
   "execution_count": null,
   "id": "31aefff3",
   "metadata": {},
   "outputs": [],
   "source": []
  }
 ],
 "metadata": {
  "kernelspec": {
   "display_name": "Python 3 (ipykernel)",
   "language": "python",
   "name": "python3"
  },
  "language_info": {
   "codemirror_mode": {
    "name": "ipython",
    "version": 3
   },
   "file_extension": ".py",
   "mimetype": "text/x-python",
   "name": "python",
   "nbconvert_exporter": "python",
   "pygments_lexer": "ipython3",
   "version": "3.9.13"
  }
 },
 "nbformat": 4,
 "nbformat_minor": 5
}
