{
 "cells": [
  {
   "cell_type": "markdown",
   "id": "4034d698",
   "metadata": {},
   "source": [
    "# Assignment 1"
   ]
  },
  {
   "cell_type": "code",
   "execution_count": null,
   "id": "bb87fc59",
   "metadata": {},
   "outputs": [],
   "source": [
    " What is Software?\n",
    "\n",
    "Ans:- Software is nothing but a collection of Computer programs and related documents that are\n",
    "      intended to provide desired features.\n",
    "\n",
    "                              "
   ]
  },
  {
   "cell_type": "code",
   "execution_count": null,
   "id": "3fdf573b",
   "metadata": {},
   "outputs": [],
   "source": [
    "Q.2) What are the types of Applications?\n",
    "\n",
    "Ans:- Typically there are three types of Applications\n",
    " 1.) Web Application\n",
    " 2.) Mobile Application\n",
    " 3.) Desktop Application\n",
    "   \n",
    " 1.) Web Application:- A web application also referred to as a web app,is a computer program with\n",
    "                       funcionality and interactive elements.it also stores data manipulates it\n",
    "                       according to a user's needs.\n",
    "\n",
    " 2.) Mobile Application:- Intended to run on mobile devices like tablets,smartphones.\n",
    " \n",
    " 3.) Desktop Application:- An Application that runs stand-alone in a desktop or laptop computer.\n"
   ]
  },
  {
   "cell_type": "code",
   "execution_count": null,
   "id": "c2730640",
   "metadata": {},
   "outputs": [],
   "source": [
    "Q.3) What is Programming?\n",
    "\n",
    "Ans:- Programming is the process of creating a set of instructions that tell a computer how to\n",
    "      perform a task.Programming can be done using a variety of computer programming languages,\n",
    "      such as Python,Javascript and C++."
   ]
  },
  {
   "cell_type": "code",
   "execution_count": null,
   "id": "1d17780f",
   "metadata": {},
   "outputs": [],
   "source": [
    "\n",
    "Q.4) What is Python?  \n",
    "\n",
    "Ans:-Python is a Popular Programming Language.Python can be used on a server to create web\n",
    "     applications.It was created by Guido Van Rossum,and released 1991.\n",
    "\n",
    "  It is used for :\n",
    "\n",
    "•\tWeb Development\n",
    "•\tSoftware development\n",
    "•\tMathematics\n",
    "•\tSystem Scripting\n",
    "\n",
    "  What Python can do?\n",
    "\n",
    "•\tPython can be used on a server to create web applications\n",
    "•\tPython can be used alongside software to create workflows.\n",
    "•\tPython can connect to database systems. It can also read and modify files.\n",
    "•\tPython can be used to handle big data and perform complex mathematics.\n",
    "•\tPython can be used for rapid prototyping, or for production-ready software development.\n",
    "\n",
    "                              "
   ]
  }
 ],
 "metadata": {
  "kernelspec": {
   "display_name": "Python 3 (ipykernel)",
   "language": "python",
   "name": "python3"
  },
  "language_info": {
   "codemirror_mode": {
    "name": "ipython",
    "version": 3
   },
   "file_extension": ".py",
   "mimetype": "text/x-python",
   "name": "python",
   "nbconvert_exporter": "python",
   "pygments_lexer": "ipython3",
   "version": "3.10.7"
  }
 },
 "nbformat": 4,
 "nbformat_minor": 5
}
